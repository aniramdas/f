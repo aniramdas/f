{
 "cells": [
  {
   "cell_type": "code",
   "execution_count": 18,
   "metadata": {},
   "outputs": [],
   "source": [
    "documents = [\n",
    "{'type': 'passport', 'number': '2207 876234', 'name': 'Василий Гупкин'},\n",
    "{'type': 'invoice', 'number': '11-2', 'name': 'Геннадий Покемонов'},\n",
    "{'type': 'insurance', 'number': '10006', 'name': 'Аристарх Павлов'}\n",
    "]\n",
    "\n",
    "directories = {\n",
    "'1': ['2207 876234', '11-2'],\n",
    "'2': ['10006'],\n",
    "'3': []\n",
    "}"
   ]
  },
  {
   "cell_type": "code",
   "execution_count": 9,
   "metadata": {},
   "outputs": [],
   "source": [
    "def doc_num(): # поиск номера документа\n",
    "    num = input('введите номер документа: ')\n",
    "    return num\n",
    "\n",
    "def find_doc(num): # поиск данных по номеру документа\n",
    "    doc = 0\n",
    "    i = 0\n",
    "    for line in documents:\n",
    "        if line ['number'] == num:\n",
    "            doc = line\n",
    "            i+=1\n",
    "    if i != 0:\n",
    "        return doc\n",
    "    elif i == 0:\n",
    "        return False\n",
    "    \n",
    "def doc(num): # поиск документа на полке\n",
    "    i = 0\n",
    "    for number, shelf in directories.items():\n",
    "        for shelf_docs in shelf:\n",
    "            if shelf_docs == num:\n",
    "                ind = number\n",
    "                i += 1\n",
    "    if i == 1:\n",
    "        return ind\n",
    "    elif i == 0:\n",
    "        return False\n",
    "    \n",
    "def list_shefls(): # текущий перечень полок\n",
    "    print ('перечень полок:')\n",
    "    for shelf in directories.keys():\n",
    "        print(shelf, ' ', end = '')\n",
    "\n",
    "\n",
    "def check_shefls(shefl): # наличие полки\n",
    "    if shefl in directories.keys():\n",
    "        return True\n",
    "    elif shefl not in directories.keys():\n",
    "        return False"
   ]
  },
  {
   "cell_type": "code",
   "execution_count": 10,
   "metadata": {},
   "outputs": [],
   "source": [
    "def find_name(): #ищет владельца документа\n",
    "    num = doc_num()\n",
    "    line = find_doc(num)\n",
    "    if line != False:\n",
    "        print('владелец документа:', line['name'])\n",
    "    elif line == 0:\n",
    "        print('документ не найден в базе данных')"
   ]
  },
  {
   "cell_type": "code",
   "execution_count": 11,
   "metadata": {},
   "outputs": [],
   "source": [
    "def find_shelf(): #по номеру ищет документ на полке и выдает её\n",
    "    num = str(doc_num())\n",
    "    if doc(num) != False:\n",
    "        print('документ находится на полке №', doc(num))\n",
    "    elif doc(num) == False:\n",
    "        print('Ддокумент не найден в базе данных')"
   ]
  },
  {
   "cell_type": "code",
   "execution_count": 12,
   "metadata": {},
   "outputs": [],
   "source": [
    "def r_information(): # показывает все документы\n",
    "    for line in documents:\n",
    "        print('№:', line['number'], ',' , 'Тип:', line['type'], ',' , 'Владелец:', line['name'], ',', 'Номер полки:', doc(line['number']))"
   ]
  },
  {
   "cell_type": "code",
   "execution_count": 13,
   "metadata": {},
   "outputs": [],
   "source": [
    "def add_shelf(): # добавление полки\n",
    "    shefl = input('введите номер новой полки')\n",
    "    if check_shefls(shefl) == True:\n",
    "        print('такая полка уже существует')\n",
    "    elif check_shefls(shefl) == False:\n",
    "        directories[shefl] = []\n",
    "        print('полка добавлена')\n",
    "    list_shefls()"
   ]
  },
  {
   "cell_type": "code",
   "execution_count": 14,
   "metadata": {},
   "outputs": [],
   "source": [
    "def delete_shelf(): # удаление полки, если она пустая\n",
    "    shefl = input('введите номер полки')\n",
    "    if check_shefls(shefl) == False:\n",
    "        print('полка не существует')\n",
    "    elif check_shefls(shefl) == True:\n",
    "        if check_docs(shefl) == True:\n",
    "            del directories[shefl]\n",
    "            print('полка удалена')\n",
    "        elif check_docs(shefl) == False:\n",
    "            print('на полке есть документы, их нужно переместить')\n",
    "    list_shefls()"
   ]
  },
  {
   "cell_type": "code",
   "execution_count": 17,
   "metadata": {},
   "outputs": [],
   "source": [
    "def main(): # функционал\n",
    "    x = input('выберите функцию')\n",
    "    while x != 'q':\n",
    "        if x == 'p':\n",
    "            find_name()\n",
    "        elif x == 's':\n",
    "            find_shelf()\n",
    "        elif x == 'l':\n",
    "            r_information()\n",
    "        elif x == 'as':\n",
    "            add_shelf()\n",
    "        elif x == 'ds':\n",
    "            delete_shelf()\n",
    "        x = input('выберите функцию ')\n",
    "    print('работа окончена')"
   ]
  }
 ],
 "metadata": {
  "kernelspec": {
   "display_name": "Python 3",
   "language": "python",
   "name": "python3"
  },
  "language_info": {
   "codemirror_mode": {
    "name": "ipython",
    "version": 3
   },
   "file_extension": ".py",
   "mimetype": "text/x-python",
   "name": "python",
   "nbconvert_exporter": "python",
   "pygments_lexer": "ipython3",
   "version": "3.8.5"
  }
 },
 "nbformat": 4,
 "nbformat_minor": 4
}
